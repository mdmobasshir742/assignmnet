{
 "cells": [
  {
   "cell_type": "code",
   "execution_count": 1,
   "id": "940ade7a-84c0-472a-b2b2-e95da664a951",
   "metadata": {},
   "outputs": [],
   "source": [
    "# Q1: Create a vehicle class with an init method having instance variables as name_of_vehicle, max_speed and average_of_vehicle.\n",
    "class Vehicle:\n",
    "    def __init__(self, name_of_vehicle, max_speed, average_of_vehicle):\n",
    "        self.name_of_vehicle = name_of_vehicle\n",
    "        self.max_speed = max_speed\n",
    "        self.average_of_vehicle = average_of_vehicle"
   ]
  },
  {
   "cell_type": "code",
   "execution_count": 3,
   "id": "5b7e5f7c-b6f9-429d-a5f5-fe646fa174e5",
   "metadata": {},
   "outputs": [],
   "source": [
    "# Q2: Create a child class car from the vehicle class created in Que 1, which will inherit the vehicle class. Create a method named seating_capacity which takes capacity as an argument and returns the name of the vehicle and its seating capacity.\n",
    "class Car(Vehicle):\n",
    "    def __init__(self, name_of_vehicle, max_speed, average_of_vehicle):\n",
    "        super().__init__(name_of_vehicle, max_speed, average_of_vehicle)\n",
    "\n",
    "    def seating_capacity(self, capacity):\n",
    "        return f\"{self.name_of_vehicle} has a seating capacity of {capacity} passengers.\""
   ]
  },
  {
   "cell_type": "code",
   "execution_count": 5,
   "id": "859d1ef6-ecdc-4558-afd2-b6ac15f62907",
   "metadata": {},
   "outputs": [
    {
     "name": "stdout",
     "output_type": "stream",
     "text": [
      "Fido barks.\n",
      "The mammal feeds its young.\n"
     ]
    }
   ],
   "source": [
    "# What is multiple inheritance? Write a python code to demonstrate multiple inheritance.\n",
    "class Animal:\n",
    "    def sound(self):\n",
    "        print(\"The animal makes a sound.\")\n",
    "\n",
    "class Mammal:\n",
    "    def feed_young(self):\n",
    "        print(\"The mammal feeds its young.\")\n",
    "\n",
    "class Dog(Animal, Mammal):\n",
    "    def __init__(self, name):\n",
    "        self.name = name\n",
    "\n",
    "    def sound(self):\n",
    "        print(f\"{self.name} barks.\")\n",
    "\n",
    "my_dog = Dog(\"Fido\")\n",
    "my_dog.sound()  # Output: Fido barks.\n",
    "my_dog.feed_young()  # Output: The mammal feeds its young."
   ]
  },
  {
   "cell_type": "code",
   "execution_count": 7,
   "id": "ab4c7b4c-10ea-4501-9fa3-739da7b00cd6",
   "metadata": {},
   "outputs": [
    {
     "name": "stdout",
     "output_type": "stream",
     "text": [
      "John\n",
      "Jane\n",
      "Name must be a string.\n"
     ]
    }
   ],
   "source": [
    "# Q4: What are getter and setter in python? Create a class and create a getter and a setter method in this class.\n",
    "class Person:\n",
    "    def __init__(self, name):\n",
    "        self._name = name\n",
    "\n",
    "    @property\n",
    "    def name(self):\n",
    "        return self._name\n",
    "\n",
    "    @name.setter\n",
    "    def name(self, value):\n",
    "        if not isinstance(value, str):\n",
    "            raise ValueError(\"Name must be a string.\")\n",
    "        self._name = value\n",
    "\n",
    "person = Person(\"John\")\n",
    "print(person.name)  # Output: John\n",
    "\n",
    "person.name = \"Jane\"\n",
    "print(person.name)  # Output: Jane\n",
    "\n",
    "try:\n",
    "    person.name = 123\n",
    "except ValueError as e:\n",
    "    print(e)  # Output: Name must be a string."
   ]
  },
  {
   "cell_type": "code",
   "execution_count": 9,
   "id": "dcca2978-fec4-449a-ac80-033fec84aeaa",
   "metadata": {},
   "outputs": [],
   "source": [
    "# Q5: What is method overriding in python? Write a python code to demonstrate method overriding.\n",
    "class Shape:\n",
    "    def area(self):\n",
    "        raise NotImplementedError(\"Subclasses must implement area method.\")\n",
    "\n",
    "class Circle(Shape):\n",
    "    def __init__(self, radius):\n",
    "        self.radius = radius\n",
    "\n",
    "    def area(self):\n",
    "        return 3.14 * (self.radius ** 2)\n",
    "\n",
    "class Rectangle(Shape):\n",
    "    def __init__(self, width, height):\n",
    "        self.width = width\n",
    "        self.height"
   ]
  },
  {
   "cell_type": "code",
   "execution_count": null,
   "id": "72e0826b-d6d2-4a32-b174-9159cfb505d5",
   "metadata": {},
   "outputs": [],
   "source": []
  }
 ],
 "metadata": {
  "kernelspec": {
   "display_name": "Python 3 (ipykernel)",
   "language": "python",
   "name": "python3"
  },
  "language_info": {
   "codemirror_mode": {
    "name": "ipython",
    "version": 3
   },
   "file_extension": ".py",
   "mimetype": "text/x-python",
   "name": "python",
   "nbconvert_exporter": "python",
   "pygments_lexer": "ipython3",
   "version": "3.11.7"
  }
 },
 "nbformat": 4,
 "nbformat_minor": 5
}
